{
 "cells": [
  {
   "cell_type": "markdown",
   "metadata": {},
   "source": [
    "![](files/roofitbasics.png \"Title\")\n",
    "\n",
    "# Introduction \n",
    "\n",
    "If you want to follow this notebook you need to install ...\n",
    "\n",
    "   * ROOT (at least v6-06-06): [https://root.cern.ch/building-root](https://root.cern.ch/building-root)\n",
    "   * Jupyter: [http://jupyter.readthedocs.io/en/latest/install.html](http://jupyter.readthedocs.io/en/latest/install.html)\n",
    "\n",
    "Alternatively, you can grab a VM Ubuntu with the above already installed from here (the admin pword is \"stats\"): [https://cernbox.cern.ch/index.php/s/dIm4WLZU3jyjL4x](https://cernbox.cern.ch/index.php/s/dIm4WLZU3jyjL4x)\n",
    "\n",
    "You can get this notebook from GitHub: [https://github.com/nucleosynthesis/RooFitBasics](https://github.com/nucleosynthesis/RooFitBasics)\n",
    "\n",
    "Open any notebook by typing in a terminal `root --notebook`"
   ]
  },
  {
   "cell_type": "markdown",
   "metadata": {},
   "source": [
    "# RooFit\n",
    "<b>RooFit</b> is a OO analysis environment built on ROOT. It is essentially a collection of classes designed to augment root for data modeling whose aim is summarised below (shamelessly stolen from Wouter Verkerke)...\n",
    "\n",
    "![](files/roofit.png)\n",
    "\n",
    "We will cover a few of the basics in the session today but note there are many more tutorials available at this link: [https://root.cern.ch/root/html600/tutorials/roofit/index.html](https://root.cern.ch/root/html600/tutorials/roofit/index.html)"
   ]
  },
  {
   "cell_type": "markdown",
   "metadata": {},
   "source": [
    "## RooFit objects\n",
    "\n",
    "In Roofit, any variable, data point, function, PDF ... is represented by a c++ object\n",
    "\n",
    "The most basic of these is the `RooRealVar`. Let's create one which will represent the mass of some hypothetical particle, we name it and give it an initial starting value and range."
   ]
  },
  {
   "cell_type": "code",
   "execution_count": null,
   "metadata": {},
   "outputs": [],
   "source": [
    "RooRealVar MH(\"MH\",\"mass of the Hypothetical Boson (H-boson) in GeV\",125,120,130);\n",
    "MH.Print();"
   ]
  },
  {
   "cell_type": "markdown",
   "metadata": {},
   "source": [
    "ok, great. This variable is now an object we can play around with. We can access this object and modify it's properties, such as its value. "
   ]
  },
  {
   "cell_type": "code",
   "execution_count": null,
   "metadata": {},
   "outputs": [],
   "source": [
    "MH.setVal(130);\n",
    "MH.getVal();\n",
    "MH.Print();"
   ]
  },
  {
   "cell_type": "markdown",
   "metadata": {},
   "source": [
    "In particle detectors we typically don't observe this particle mass but usually define some observable which is *sensitive* to this mass. Lets assume we can detect and reconstruct the decay products of the H-boson and measure the invariant mass of those particles. We need to make another variable which represents that invariant mass"
   ]
  },
  {
   "cell_type": "code",
   "execution_count": null,
   "metadata": {},
   "outputs": [],
   "source": [
    "RooRealVar mass(\"m\",\"m (GeV)\",100,80,200);\n",
    "mass.Print();"
   ]
  },
  {
   "cell_type": "markdown",
   "metadata": {},
   "source": [
    "In the perfect world we would perfectly measure the exact mass of the particle in every single event. However, our detectors are usually far from perfect so there will be some resolution effect. Lets assume the resolution of our measurement of the invariant mass is 10 GeV and call it \"sigma\""
   ]
  },
  {
   "cell_type": "code",
   "execution_count": null,
   "metadata": {},
   "outputs": [],
   "source": [
    "RooRealVar sigma(\"resolution\",\"#sigma\",10,0,20);\n",
    "sigma.Print();"
   ]
  },
  {
   "cell_type": "markdown",
   "metadata": {},
   "source": [
    "More exotic variables can be constructed out of these `RooRealVar`s using `RooFormulaVars`. For example, suppose we wanted to make a function out of the variables which represented the relative resolution as a function of the hypothetical mass MH. "
   ]
  },
  {
   "cell_type": "code",
   "execution_count": null,
   "metadata": {},
   "outputs": [],
   "source": [
    "RooFormulaVar func(\"R\",\"@0/@1\",RooArgList(sigma,mass));\n",
    "func.Print(\"v\");"
   ]
  },
  {
   "cell_type": "markdown",
   "metadata": {},
   "source": [
    "Notice how there is a list of the variables we passed (the servers or \"actual vars\"). We can now plot the function. RooFit has a special plotting object `RooPlot` which keeps track of the objects (and their normalisations) which we want to draw. Since RooFit doesn't know the difference between which objects are/aren't dependant, we need to tell it. \n",
    "\n",
    "Right now, we have the relative resolution as $R(m,\\sigma)$ whereas we want to plot $R_{\\sigma}(m)$."
   ]
  },
  {
   "cell_type": "code",
   "execution_count": null,
   "metadata": {},
   "outputs": [],
   "source": [
    "TCanvas *can = new TCanvas();\n",
    "\n",
    "//make the x-axis the \"mass\"\n",
    "RooPlot *plot = mass.frame(); \n",
    "func.plotOn(plot);\n",
    "\n",
    "plot->Draw();\n",
    "can->Draw();"
   ]
  },
  {
   "cell_type": "markdown",
   "metadata": {},
   "source": [
    "The main objects we are interested in using from RooFit are <b>\"probability denisty functions\"</b> or (PDFs). We can construct the PDF \n",
    "\n",
    "$$f(m|M_{H},\\sigma)$$ \n",
    "\n",
    "as a simple Gaussian shape for example or a `RooGaussian` in RooFit language (think McDonald's logic, everything is a `RooSomethingOrOther`)"
   ]
  },
  {
   "cell_type": "code",
   "execution_count": null,
   "metadata": {},
   "outputs": [],
   "source": [
    "RooGaussian gauss(\"gauss\",\"f(m|M_{H},#sigma)\",mass,MH,sigma);\n",
    "gauss.Print(\"V\");"
   ]
  },
  {
   "cell_type": "markdown",
   "metadata": {},
   "source": [
    "Notice how the gaussian PDF, like the `RooFormulaVar` depends on our `RooRealVar` objects, these are its servers.  Its evaluation will depend on their values. \n",
    "\n",
    "The main difference between PDFs and Functions in RooFit is that PDFs are <b>automatically normalised to unitiy</b>, hence they represent a probability density, you don't need to normalise yourself. Lets plot it for the current values of $m$ and $\\sigma$"
   ]
  },
  {
   "cell_type": "code",
   "execution_count": null,
   "metadata": {},
   "outputs": [],
   "source": [
    "plot = mass.frame();\n",
    "    \n",
    "gauss.plotOn(plot);\n",
    "\n",
    "plot->Draw();\n",
    "can->Draw();"
   ]
  },
  {
   "cell_type": "markdown",
   "metadata": {},
   "source": [
    "If we change the value of MH, the PDF gets updated at the same time."
   ]
  },
  {
   "cell_type": "code",
   "execution_count": null,
   "metadata": {},
   "outputs": [],
   "source": [
    "MH.setVal(125);\n",
    "gauss.plotOn(plot,RooFit::LineColor(kRed));\n",
    "\n",
    "MH.setVal(135);\n",
    "gauss.plotOn(plot,RooFit::LineColor(kGreen));\n",
    "\n",
    "plot->Draw();\n",
    "\n",
    "can->Update();\n",
    "can->Draw();"
   ]
  },
  {
   "cell_type": "markdown",
   "metadata": {},
   "source": [
    "PDFs can be used to generate Monte Carlo data. One of the benefits of RooFit is that to do so only uses a single line of code!\n",
    "\n",
    "As before, we have to tell RooFit which variables to generate in (e.g which are the observables for an experiment). In this case, each of our events will be a single value of \"mass\" $m$."
   ]
  },
  {
   "cell_type": "code",
   "execution_count": null,
   "metadata": {},
   "outputs": [],
   "source": [
    "RooDataSet *data = (RooDataSet*) gauss.generate(RooArgSet(mass),500); \n",
    "//The arguments are the set of observables, follwed by the number of events\n",
    "\n",
    "data->Print();"
   ]
  },
  {
   "cell_type": "markdown",
   "metadata": {},
   "source": [
    "Now we can plot the data as with other RooFit objects."
   ]
  },
  {
   "cell_type": "code",
   "execution_count": null,
   "metadata": {
    "scrolled": true
   },
   "outputs": [],
   "source": [
    "plot = mass.frame();\n",
    "\n",
    "data->plotOn(plot);\n",
    "gauss.plotOn(plot);\n",
    "gauss.paramOn(plot);\n",
    "\n",
    "plot->Draw();\n",
    "can->Update();\n",
    "can->Draw();"
   ]
  },
  {
   "cell_type": "markdown",
   "metadata": {},
   "source": [
    "Of course we're not in the business of generating MC events, but collecting <b>real data!</b>. Next we will look at using real data in RooFit..."
   ]
  },
  {
   "cell_type": "markdown",
   "metadata": {},
   "source": [
    "## RooFit datasets\n",
    "\n",
    "A dataset is essentially just a collection of points in N-dimensional (N-observables) space. There are two basic implementations in RooFit, \n",
    "\n",
    "1) an \"unbinned\" dataset - `RooDataSet`\n",
    "\n",
    "2) a \"binned\" dataset - `RooDataHist`\n",
    "\n",
    "both of these use the same basic structure as below"
   ]
  },
  {
   "cell_type": "markdown",
   "metadata": {},
   "source": [
    "![](files/datastructure.png)"
   ]
  },
  {
   "cell_type": "markdown",
   "metadata": {},
   "source": [
    "Lets create an empty dataset where the only observable, the mass. Points can be added to the dataset one by one ..."
   ]
  },
  {
   "cell_type": "code",
   "execution_count": null,
   "metadata": {},
   "outputs": [],
   "source": [
    "RooDataSet mydata(\"dummy\",\"My dummy dataset\",RooArgSet(mass)); \n",
    "// We've made a dataset with one observable (mass)\n",
    "\n",
    "mass.setVal(123.4);\n",
    "mydata.add(RooArgSet(mass));\n",
    "mass.setVal(145.2);\n",
    "mydata.add(RooArgSet(mass));\n",
    "mass.setVal(170.8);\n",
    "mydata.add(RooArgSet(mass));\n",
    "\n",
    "\n",
    "mydata.Print();"
   ]
  },
  {
   "cell_type": "markdown",
   "metadata": {},
   "source": [
    "There are also other ways to manipulate datasets in this way as shown in the diagram below \n",
    "\n",
    "![](files/datasets_manip.png)\n",
    "\n",
    "\n",
    "Luckily there are also Constructors for a `RooDataSet` from a `TTree` and for a `RooDataHist` from a `TH1` so its simple to convert from your usual ROOT objects.\n",
    "\n",
    "Let's take an example dataset put together already."
   ]
  },
  {
   "cell_type": "code",
   "execution_count": null,
   "metadata": {},
   "outputs": [],
   "source": [
    "TFile *file = TFile::Open(\"tutorial.root\");\n",
    "file->ls();"
   ]
  },
  {
   "cell_type": "markdown",
   "metadata": {},
   "source": [
    "Inside the file, there is something called a `RooWorkspace`. This is just the RooFit way of keeping a persistent link between the objects for a model. It is a very useful way to share data and PDFs/functions etc among CMS collaborators.\n",
    "\n",
    "Let's take a look at it. It contains a `RooDataSet` and one variable. This time we called our variable (or observable) `CMS_hgg_mass`, let's assume now that this is the invariant mass of photon pairs where we assume our H-boson decays to photons.  "
   ]
  },
  {
   "cell_type": "code",
   "execution_count": null,
   "metadata": {},
   "outputs": [],
   "source": [
    "RooWorkspace *wspace = (RooWorkspace*) file->Get(\"workspace\");\n",
    "wspace->Print(\"v\");"
   ]
  },
  {
   "cell_type": "markdown",
   "metadata": {},
   "source": [
    "Let's have a look at the data. The `RooWorkspace` has several accessor functions, we will use the `RooWorkspace::data` one. \n",
    "\n",
    "There are also `RooWorkspace::var`, `RooWorkspace::function` and `RooWorkspace::pdf` with (hopefully) obvious purposes."
   ]
  },
  {
   "cell_type": "code",
   "execution_count": null,
   "metadata": {
    "scrolled": true
   },
   "outputs": [],
   "source": [
    "RooDataSet *hgg_data = (RooDataSet*) wspace->data(\"dataset\");\n",
    "RooRealVar *hgg_mass = (RooRealVar*) wspace->var(\"CMS_hgg_mass\");\n",
    "\n",
    "plot = hgg_mass->frame();\n",
    "\n",
    "hgg_data->plotOn(plot,RooFit::Binning(160)); \n",
    "// Here we've picked a certain number of bins just for plotting purposes \n",
    "\n",
    "plot->Draw();\n",
    "can->Update();\n",
    "can->Draw();"
   ]
  },
  {
   "cell_type": "markdown",
   "metadata": {},
   "source": [
    "## Likelihoods and Fitting to data \n",
    "\n",
    "The data we have in our file doesn't look like a Gaussian distribution. Instead, we could probably use something like an exponential to describe it. \n",
    "\n",
    "There is an exponential pdf already in RooFit (yep you guessed it) `RooExponential`. For a pdf, we only need one parameter which is the exponential slope $\\alpha$ so our pdf is,  \n",
    "\n",
    "$$ f(m|\\alpha) = \\dfrac{1}{N} e^{-\\alpha m}$$\n",
    "\n",
    "Where of course, $N = \\int_{110}^{150} e^{-\\alpha m} dm$ is the normalisation constant.\n",
    "\n",
    "You can fund a bunch of available RooFit functions here: [https://root.cern.ch/root/html/ROOFIT_ROOFIT_Index.html](https://root.cern.ch/root/html/ROOFIT_ROOFIT_Index.html)\n",
    "\n",
    "There is also support for a generic pdf in the form of a `RooGenericPdf`, check this link: [https://root.cern.ch/doc/v608/classRooGenericPdf.html](https://root.cern.ch/doc/v608/classRooGenericPdf.html)"
   ]
  },
  {
   "cell_type": "code",
   "execution_count": null,
   "metadata": {},
   "outputs": [],
   "source": [
    "RooRealVar alpha(\"alpha\",\"#alpha\",-0.05,-0.2,0.01);\n",
    "RooExponential expo(\"exp\",\"exponential function\",*hgg_mass,alpha);"
   ]
  },
  {
   "cell_type": "markdown",
   "metadata": {},
   "source": [
    "We can use RooFit to tell us to estimate the value of $\\alpha$ using this dataset. You will learn more about parameter estimation but for now we will just assume you know about maximising likelihoods. This <b>maximum likelihood estimator</b> is common in HEP and is known to give unbiased estimates for things like distribution means etc. \n",
    "\n",
    "This also introduces the other main use of PDFs in RooFit. They can be used to construct <b>likelihoods</b> easily.\n",
    "\n",
    "The likelihood $\\mathcal{L}$ is defined for a particluar dataset (and model) as being proportional to the probability to observe the data assuming some pdf. For our data, the probability to observe an event with a value in an interval bounded by $a$ and $b$ is given by,\n",
    "\n",
    "$$ P\\left(m~\\epsilon~[a,b] \\right) = \\int_{a}^{b} f(m|\\alpha)dm  $$\n",
    "\n",
    "As that interval shrinks we can say this probability just becomes equal to $f(m|\\alpha)dm$\n",
    "\n",
    "The probability to observe the dataset we have is given by the product of such probabilities for each of our data points, so that \n",
    "\n",
    "$$\\mathcal{L}(\\alpha) \\propto \\prod_{i} f(m_{i}|\\alpha)$$\n",
    "\n",
    "Note that for a specific dataset, the $dm$ factors which should be there are constnant. They can therefore be absorbed into the constant of proportionality!\n",
    "\n",
    "The maximum likelihood esitmator for $\\alpha$, usually written as $\\hat{\\alpha}$, is found by maximising $L(\\alpha)$.\n",
    "\n",
    "Note that this won't depend on the value of the constant of proportionality so we can ignore it. This is true in most scenarios because usually only the <b>ratio</b> of likelihoods is needed, in which the constant factors out. \n",
    "\n",
    "Obviously this multiplication of exponentials can lead to very large (or very small) numbers which can lead to numerical instabilities. To avoid this, we can take logs of the likelihood. Its also common to multiply this by -1 and minimize the resulting <b>N</b>egative <b>L</b>og <b>L</b>ikelihood</b> : $-Log \\mathcal{L}(\\alpha)$.\n",
    "\n",
    "RooFit can construct the <b>NLL</b> for us."
   ]
  },
  {
   "cell_type": "code",
   "execution_count": null,
   "metadata": {},
   "outputs": [],
   "source": [
    "RooNLLVar *nll = (RooNLLVar*) expo.createNLL(*hgg_data);\n",
    "nll->Print(\"v\");"
   ]
  },
  {
   "cell_type": "markdown",
   "metadata": {},
   "source": [
    "Notice that the NLL object knows which RooRealVar is the parameter because it doesn't find that one in the dataset. This is how RooFit distiguishes between <it>observables</it> and <it>parameters</it>.\n",
    "\n",
    "RooFit has an interface to Minuit via the `RooMinimizer` class which takes the NLL as an argument. To minimize, we just call the `RooMinimizer::minimize()` function. \"Minuit\" is the program and \"migrad\" is the minimization routine which uses gradient descent..."
   ]
  },
  {
   "cell_type": "code",
   "execution_count": null,
   "metadata": {},
   "outputs": [],
   "source": [
    "RooMinimizer minim(*nll);\n",
    "minim.minimize(\"Minuit\",\"migrad\");  "
   ]
  },
  {
   "cell_type": "markdown",
   "metadata": {},
   "source": [
    "RooFit has found the best fit value of alpha for this dataset. It also estimates an uncertainty on alpha using the Hessian matrix from the fit."
   ]
  },
  {
   "cell_type": "code",
   "execution_count": null,
   "metadata": {},
   "outputs": [],
   "source": [
    "alpha.Print(\"v\");"
   ]
  },
  {
   "cell_type": "markdown",
   "metadata": {},
   "source": [
    "Lets plot the resulting exponential on the data. Notice that the value of $\\hat{\\alpha}$ is used for the exponential. "
   ]
  },
  {
   "cell_type": "code",
   "execution_count": null,
   "metadata": {
    "scrolled": true
   },
   "outputs": [],
   "source": [
    "expo.plotOn(plot);\n",
    "expo.paramOn(plot);\n",
    "plot->Draw();\n",
    "can->Update();\n",
    "can->Draw();"
   ]
  },
  {
   "cell_type": "markdown",
   "metadata": {},
   "source": [
    "It looks like there could be a small region near 125 GeV for which our fit doesn't quite go through the points. Maybe our hypothetical H-boson isn't so hypothetical after all!\n",
    "\n",
    "Let's see what happens if we include some resonant signal into the fit. We can take our Gaussian function again and use that as a signal model. A reasonable value for the resolution of a resonant signal with a mass around 125 GeV decaying to a pair of photons is around a GeV."
   ]
  },
  {
   "cell_type": "code",
   "execution_count": null,
   "metadata": {},
   "outputs": [],
   "source": [
    "sigma.setVal(1.);\n",
    "sigma.setConstant();\n",
    "\n",
    "MH.setVal(125);\n",
    "MH.setConstant();\n",
    "\n",
    "RooGaussian hgg_signal(\"signal\",\"Gaussian PDF\",*hgg_mass,MH,sigma);"
   ]
  },
  {
   "cell_type": "markdown",
   "metadata": {},
   "source": [
    "By setting these parameters constant, RooFit knows (either when creating the NLL by hand or when using `fitTo`) that there is not need to fit for these parameters. \n",
    "\n",
    "We need to add this to our exponential model and fit a \"Sigmal+Background model\" by creating a `RooAddPdf`. In RooFit there are two ways to add PDFs, recursively where the fraction of yields for the signal and background is a parameter or absolutely where each PDF has its own normalisation. We're going to use the second one."
   ]
  },
  {
   "cell_type": "code",
   "execution_count": null,
   "metadata": {},
   "outputs": [],
   "source": [
    "RooRealVar norm_s(\"norm_s\",\"N_{s}\",10,100);\n",
    "RooRealVar norm_b(\"norm_b\",\"N_{b}\",0,1000);\n",
    "\n",
    "const RooArgList components(hgg_signal,expo);\n",
    "const RooArgList coeffs(norm_s,norm_b);\n",
    "\n",
    "RooAddPdf model(\"model\",\"f_{s+b}\",components,coeffs);\n",
    "model.Print(\"v\");"
   ]
  },
  {
   "cell_type": "markdown",
   "metadata": {},
   "source": [
    "Ok now lets fit the model. Note this time we add the option `Extended()` which tells RooFit that we care about the overall number of observed events in the data $n$ too. It will add an additional Poisson term in the likelihood to account for this so our likelihood this time looks like,\n",
    "\n",
    "$$L_{s+b}(N_{s},N_{b},\\alpha) = \\dfrac{ N_{s}+N_{b}^{n} e^{N_{s}+N_{b}} }{n!} \\cdot \\prod_{i}^{n} \\left[ c f_{s}(m_{i}|M_{H},\\sigma)+ (1-c)f_{b}(m_{i}|\\alpha)  \\right] $$\n",
    "\n",
    "where $c = \\dfrac{ N_{s} }{ N_{s} + N_{b} }$,   $f_{s}(m|M_{H},\\sigma)$ is the Gaussian signal pdf and $f_{b}(m|\\alpha)$ is the exponential pdf. Remember that $M_{H}$ and $\\sigma$ are fixed so that they are no longer parameters of the likelihood.\n",
    "\n",
    "There is a simpler interface for maximum likelihood fits which is the `RooAbsPdf::fitTo` method. With this simple method, RooFit will construct the negative log-likelihood function, from the pdf, and minimize all of the free parameters in one step..."
   ]
  },
  {
   "cell_type": "code",
   "execution_count": null,
   "metadata": {},
   "outputs": [],
   "source": [
    "model.fitTo(*hgg_data,RooFit::Extended());"
   ]
  },
  {
   "cell_type": "code",
   "execution_count": null,
   "metadata": {},
   "outputs": [],
   "source": [
    "model.plotOn(plot,RooFit::Components(\"exp\"),RooFit::LineColor(kGreen));\n",
    "model.plotOn(plot,RooFit::LineColor(kRed));\n",
    "model.paramOn(plot);\n",
    "\n",
    "can->Clear();\n",
    "plot->Draw();\n",
    "can->Update();\n",
    "can->Draw();"
   ]
  },
  {
   "cell_type": "markdown",
   "metadata": {
    "collapsed": true
   },
   "source": [
    "What about if we also fit for the mass ($M_{H}$)? we can easily do this by removing the constant setting on MH..."
   ]
  },
  {
   "cell_type": "code",
   "execution_count": null,
   "metadata": {},
   "outputs": [],
   "source": [
    "MH.setConstant(false);\n",
    "model.fitTo(*hgg_data,RooFit::Extended());"
   ]
  },
  {
   "cell_type": "markdown",
   "metadata": {},
   "source": [
    "Notice now the result for the fitted MH is not 125 and gets added to the fitted parameters since now it is floating.\n",
    "\n",
    "We can get more information about the fit, via the `RooFitResult`, using the option `Save()`. "
   ]
  },
  {
   "cell_type": "code",
   "execution_count": null,
   "metadata": {},
   "outputs": [],
   "source": [
    "RooFitResult *fit_res = (RooFitResult*) model.fitTo(*hgg_data,RooFit::Extended(),RooFit::Save());\n",
    "fit_res->Print(\"v\");"
   ]
  },
  {
   "cell_type": "markdown",
   "metadata": {},
   "source": [
    "For example, we can get the Correlation Matrix from the fit result... Note that the order of the parameters are the same as listed in the \"Floating Parameter\" list above"
   ]
  },
  {
   "cell_type": "code",
   "execution_count": null,
   "metadata": {},
   "outputs": [],
   "source": [
    "TMatrixDSym cormat = fit_res->correlationMatrix();\n",
    "cormat.Print();"
   ]
  },
  {
   "cell_type": "markdown",
   "metadata": {},
   "source": [
    "And there even some fancy ways to visualise these results ... "
   ]
  },
  {
   "cell_type": "code",
   "execution_count": null,
   "metadata": {},
   "outputs": [],
   "source": [
    "TCanvas *can2 = new TCanvas(\"c\",\"c\",1000,460);\n",
    "can2->Divide(2);\n",
    "\n",
    "can2->cd(1);\n",
    "\n",
    "RooPlot plot_err_mat(norm_b,norm_s,123,126,0,80);\n",
    "fit_res->plotOn(&plot_err_mat,MH,norm_s,\"MEVH12\");\n",
    "plot_err_mat.Draw();\n",
    "\n",
    "can2->cd(2);\n",
    "\n",
    "plot = hgg_mass->frame();\n",
    "model.plotOn(plot,RooFit::VisualizeError(*fit_res,1),RooFit::FillColor(kOrange));\n",
    "model.plotOn(plot);\n",
    "plot->Draw();\n",
    "\n",
    "can2->Draw();"
   ]
  },
  {
   "cell_type": "markdown",
   "metadata": {},
   "source": [
    "A nice feature of RooFit is that once we have a pdf, data and results like this, we can import this new model into our `RooWorkspace` and show off our new discovery to our LHC friends (if we weren't about 5 years too late!). We can also save the \"state\" of our parameters for later, by creating a snapshot of the current values. "
   ]
  },
  {
   "cell_type": "code",
   "execution_count": null,
   "metadata": {},
   "outputs": [],
   "source": [
    "wspace->import(model);  \n",
    "RooArgSet *params = model.getParameters(*hgg_data);\n",
    "wspace->saveSnapshot(\"nominal_values\",*params);\n",
    "\n",
    "wspace->Print(\"V\");"
   ]
  },
  {
   "cell_type": "markdown",
   "metadata": {},
   "source": [
    "# Removing Nuisance Parameters\n",
    "\n",
    "In HEP, we often have the case where there are some parameters of the model which are physics parameters of interest, while others are known as nuisance parameters. In some cases, those parameters may have external constraints, coming from other data or some theoretical reasoning. This is how we often treat <b>systematic uncertainties</b> but we won't cover those today.\n",
    "\n",
    "There are two schools of thought for removing nuisance parameters \n",
    "\n",
    "   * Frequentists use profiling \n",
    "   * Bayesians use marginalisation\n",
    "\n",
    "In our case, the hypothesis mass $M_{H}$ might be the thing which we can write papers on and win Nobel prizes for while we're not nearly so interested in the values of $N_{s}$, $\\alpha$ or $N_{b}$. \n",
    "\n",
    "For simplicity, we will assume that the values of $\\alpha$ and $N_{b}$ are fixed (maybe from theory or from a large Monte Carlo simulation) and so the only remaining nuisance paraemeter is $N_{s}$. "
   ]
  },
  {
   "cell_type": "code",
   "execution_count": null,
   "metadata": {},
   "outputs": [],
   "source": [
    "alpha.setConstant(true);\n",
    "norm_b.setConstant(true);"
   ]
  },
  {
   "cell_type": "markdown",
   "metadata": {},
   "source": [
    "The <b>profile likelihood</b> is one which removes the nuisances parameters by fitting them away. Note this is a major divide for Bayesians and Freqeuentist since removing nuisance parameters for Bayesians involves integrating (or marginalising) over them. \n",
    "\n",
    "The profile likeihood is written as, \n",
    "\n",
    "$$\\mathcal{L}_{p}(M_{H})= \\mathcal{L}_{s+b}(M_{H},\\hat{\\hat{N}}_{s})$$\n",
    "\n",
    "where the double hat notation, $\\hat{\\hat{\\cdot}}$, denotes the values of the nuisance parameter which maximises  $L_{s+b}$ at a given value of $M_{H}$.\n",
    "\n",
    "RooFit has a useful class under the RooStats libraries for profile likelihoods: `ProfileLikelihoodCalculator` : [https://root.cern.ch/doc/v606/classRooStats_1_1ProfileLikelihoodCalculator.html](https://root.cern.ch/doc/v606/classRooStats_1_1ProfileLikelihoodCalculator.html)"
   ]
  },
  {
   "cell_type": "code",
   "execution_count": null,
   "metadata": {},
   "outputs": [],
   "source": [
    "MH.setRange(123,126);\n",
    "RooStats::ProfileLikelihoodCalculator plc(*hgg_data,model,RooArgSet(MH));"
   ]
  },
  {
   "cell_type": "markdown",
   "metadata": {},
   "source": [
    "According to Wilks' theorem, -2 times the log of profile likelihood ratio, \n",
    "\n",
    "$$-2\\log \\lambda = -2\\log \\dfrac{\\mathcal{L}(M_{H})}{\\mathcal{L}(\\hat{M}_{H})}$$\n",
    "\n",
    "should be distributed as a $\\chi^{2}$ with the number degrees of freedom equal to the number of parameters (in our case 1). This means that we can obtain the $1\\sigma$ (or 68%) uncertainty by finding the interval for which \n",
    "\n",
    "$$-\\log \\lambda(M_{H})< 0.5 $$\n",
    "\n",
    "We can tell RooFit to find that interval for us, "
   ]
  },
  {
   "cell_type": "code",
   "execution_count": null,
   "metadata": {},
   "outputs": [],
   "source": [
    "plc.SetConfidenceLevel(0.68);\n",
    "RooStats::LikelihoodInterval *interval = plc.GetInterval();\n",
    "\n",
    "std::cout << \"\\n\\t hat{MH} = \" \n",
    "    << ((RooRealVar*)interval->GetBestFitParameters()->find(\"MH\"))->getVal() \n",
    "    << std::endl;\n",
    "\n",
    "std::cout << \"\\t 68% interval = (\" \n",
    "    << interval->LowerLimit(MH) << \",\" << interval->UpperLimit(MH) << \")\" \n",
    "    << std::endl;"
   ]
  },
  {
   "cell_type": "markdown",
   "metadata": {},
   "source": [
    "We can see where these values come from by drawing the negative of the profile likelihood ratio."
   ]
  },
  {
   "cell_type": "code",
   "execution_count": null,
   "metadata": {
    "scrolled": true
   },
   "outputs": [],
   "source": [
    "RooStats::LikelihoodIntervalPlot plotLI(interval);\n",
    "\n",
    "TCanvas *canLI = new TCanvas(); \n",
    "plotLI.Draw();\n",
    "canLI->Draw();"
   ]
  },
  {
   "cell_type": "markdown",
   "metadata": {},
   "source": [
    "We can also obtain a Bayesian <b>posterior</b> density by using Bayes' theorem ...\n",
    "\n",
    "$$ P(M_{H}|\\mathrm{data}) = \\frac{ \\int\\int\\int P(\\mathrm{data}|M_{H},N_{s}) \\pi(N_{s}|M_{H}) dN_{s}}{P(\\mathrm{data})}$$\n",
    "\n",
    "where $\\pi(N_{s}|M_{H})$ is the (condidtional) <b>prior</b> probability density for our parameters. You might notice that  $P(\\mathrm{data}|M_{H},N_{s})$ is nothing more than our likelihood function $\\mathcal{L}(M_{H},N_{s})$!\n",
    "\n",
    "Notice that I can use $=$ here because we normalise according to $P(\\mathrm{data})$, which is the integral over the likelihood (multiplied by the prior) with respect to <b>all</b> of its parameters. \n",
    "\n",
    "We can get RooFit to calculate this posterior using the `BayesianCalculator` class but first, for this time, we are going to create a `ModelConfig` which keeps track of which parameters are POIs and which are nuisances/observables. This is useful when sharing your model between collegues. "
   ]
  },
  {
   "cell_type": "code",
   "execution_count": null,
   "metadata": {},
   "outputs": [],
   "source": [
    "RooStats::ModelConfig mconfig(\"mymodel\");\n",
    "mconfig.SetWorkspace(*wspace);\n",
    "\n",
    "mconfig.SetPdf(\"model\");\n",
    "mconfig.SetParametersOfInterest(\"MH\");\n",
    "mconfig.SetObservables(\"CMS_hgg_mass\");\n",
    "mconfig.SetNuisanceParameters(\"norm_s\");"
   ]
  },
  {
   "cell_type": "markdown",
   "metadata": {},
   "source": [
    "There are a few things to set up since we're using variables inside the workspace. First, lets set our two background  parameters to constant, this time, directly in the workspace\n"
   ]
  },
  {
   "cell_type": "code",
   "execution_count": null,
   "metadata": {},
   "outputs": [],
   "source": [
    "wspace->var(\"norm_b\")->setConstant(true);\n",
    "wspace->var(\"alpha\")->setConstant(true);"
   ]
  },
  {
   "cell_type": "markdown",
   "metadata": {},
   "source": [
    "And we will load the nominal values from the fit before..."
   ]
  },
  {
   "cell_type": "code",
   "execution_count": null,
   "metadata": {},
   "outputs": [],
   "source": [
    "wspace->loadSnapshot(\"nominal_values\");\n",
    "wspace->allVars().Print(\"V\");"
   ]
  },
  {
   "cell_type": "markdown",
   "metadata": {},
   "source": [
    "For Bayesian results, we need to set the prior density function ($\\pi$). For now, let's assume no prior knowledge of the parameters - i.e the prior is constant within the range of the parameters and 0 elsewhere. \n",
    "\n",
    "Note that choosing a suitable prior is a debated subject amongst Bayesians since the results can depend on what you choose as a prior. Worse still, if a flat prior is chosen, say for $M_{H}$, should it be flat in $M_{H}$, or flat in $M_{H}^{2}$ (eg since $M_{H}=2\\lambda v^{2}$ and maybe $\\lambda$ is the fundamental thing)?"
   ]
  },
  {
   "cell_type": "code",
   "execution_count": null,
   "metadata": {},
   "outputs": [],
   "source": [
    "wspace->var(\"MH\")->setRange(123,126);\n",
    "\n",
    "RooUniform flat_p(\"flat_prior\",\"flat_prior\",RooArgSet(MH,norm_s));\n",
    "wspace->import(flat_p);\n",
    "mconfig.SetPriorPdf(\"flat_prior\");\n",
    "\n",
    "mconfig.Print(\"v\");"
   ]
  },
  {
   "cell_type": "markdown",
   "metadata": {},
   "source": [
    "Now we can create the calculator and plot the posterior pdf..."
   ]
  },
  {
   "cell_type": "code",
   "execution_count": null,
   "metadata": {},
   "outputs": [],
   "source": [
    "RooStats::BayesianCalculator bCalculator(*hgg_data,mconfig);\n",
    "bCalculator.SetConfidenceLevel(0.68);\n",
    "bCalculator.Print(\"v\");\n",
    "RooPlot *plotBC = bCalculator.GetPosteriorPlot();"
   ]
  },
  {
   "cell_type": "code",
   "execution_count": null,
   "metadata": {},
   "outputs": [],
   "source": [
    "TCanvas *cBC = new TCanvas();\n",
    "plotBC->Draw();\n",
    "cBC->Draw();"
   ]
  },
  {
   "cell_type": "markdown",
   "metadata": {},
   "source": [
    "This was the \"shortest\" interval, but we can also find the other valid intervals $[a,b]$ which satisfy $P(M_{H}~\\epsilon~[a,b]) =0.68$. Let's compare the Bayesian 68% credible interval with our 65% confidence interval from the profile likelihood scan..."
   ]
  },
  {
   "cell_type": "code",
   "execution_count": null,
   "metadata": {},
   "outputs": [],
   "source": [
    "RooStats::SimpleInterval *intervalBayes \n",
    "    = (RooStats::SimpleInterval*)bCalculator.GetInterval();\n",
    "\n",
    "std::cout << \"\\n\\t 68% (Bayes shortest) interval \\t= (\" \n",
    "    << intervalBayes->LowerLimit() << \",\" << intervalBayes->UpperLimit() << \")\" \n",
    "    << std::endl;\n",
    "\n",
    "std::cout << \"\\t 68% (frequentist) interval \\t= (\" \n",
    "    << interval->LowerLimit(MH) << \",\" << interval->UpperLimit(MH) << \")\" \n",
    "    << std::endl;"
   ]
  },
  {
   "cell_type": "markdown",
   "metadata": {},
   "source": [
    "They agree pretty well for our analysis but beware that this is not always the case!\n",
    "\n",
    "You will learn a more about Likelihoods and their use in Hypothesis Testing (Frequentist/Basyesian intervals, coverage and credibility, setting limits, discovery...) in future statistics Lectures. There are many more useful toos for performing them with the <b>RooStats</b> library [https://twiki.cern.ch/twiki/bin/view/RooStats/WebHome](https://twiki.cern.ch/twiki/bin/view/RooStats/WebHome) - check them out!"
   ]
  }
 ],
 "metadata": {
  "kernelspec": {
   "display_name": "ROOT C++",
   "language": "c++",
   "name": "root"
  },
  "language_info": {
   "codemirror_mode": "text/x-c++src",
   "file_extension": ".C",
   "mimetype": " text/x-c++src",
   "name": "c++"
  }
 },
 "nbformat": 4,
 "nbformat_minor": 1
}
