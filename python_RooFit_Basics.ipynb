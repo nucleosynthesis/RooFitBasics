{
 "cells": [
  {
   "cell_type": "markdown",
   "metadata": {},
   "source": [
    "![alt text](files/roofitbasics.png \"Title\")"
   ]
  },
  {
   "cell_type": "markdown",
   "metadata": {},
   "source": [
    "<b>RooFit</b> is a OO analysis environment built on ROOT. It is essentially a collection of classes designed to augment root for data modeling whose aim is summarised below (shamelessly stolen from Wouter Verkerke)..."
   ]
  },
  {
   "cell_type": "markdown",
   "metadata": {},
   "source": [
    "![alt text](files/roofit.png)\n"
   ]
  },
  {
   "cell_type": "markdown",
   "metadata": {},
   "source": [
    "We will cover a few of the basics in the session today but note there are many more tutorials available [here](https://root.cern.ch/root/html600/tutorials/roofit/index.html)"
   ]
  },
  {
   "cell_type": "code",
   "execution_count": null,
   "metadata": {
    "collapsed": false
   },
   "outputs": [],
   "source": [
    "#Setup python in the usual way \n",
    "import ROOT\n",
    "import os\n",
    "%jsroot on"
   ]
  },
  {
   "cell_type": "markdown",
   "metadata": {},
   "source": [
    "## RooFit objects\n",
    "\n",
    "In Roofit, any variable, data point, function, PDF ... is represented by a c++ object\n",
    "\n",
    "The most basic of these is the `RooRealVar`. Let's create one which will represent the mass of some hypothetical particle, we name it and give it an initial starting value and range."
   ]
  },
  {
   "cell_type": "code",
   "execution_count": null,
   "metadata": {
    "collapsed": false
   },
   "outputs": [],
   "source": [
    "MH = ROOT.RooRealVar(\"MH\",\"mass of the Hypothetical Boson (H-boson) in GeV\",125,100,150)\n",
    "MH.Print()\n"
   ]
  },
  {
   "cell_type": "markdown",
   "metadata": {},
   "source": [
    "ok, great. Now we can access this object and modify it. "
   ]
  },
  {
   "cell_type": "code",
   "execution_count": null,
   "metadata": {
    "collapsed": false
   },
   "outputs": [],
   "source": [
    "MH.setVal(130)\n",
    "MH.getVal()"
   ]
  },
  {
   "cell_type": "markdown",
   "metadata": {},
   "source": [
    "In CMS we don't observe this particle mass but usually define some observable which is *sensitive* to this mass. Lets assume we reconstruct the decay products of the H-boson and measure the invariant mass of those particles. We need to make another variable which represents that invariant mass"
   ]
  },
  {
   "cell_type": "code",
   "execution_count": null,
   "metadata": {
    "collapsed": true
   },
   "outputs": [],
   "source": [
    "mass = ROOT.RooRealVar(\"mass\",\"Invariant mass of our decay products in GeV\",100,80,200)\n",
    "mass.Print()"
   ]
  },
  {
   "cell_type": "markdown",
   "metadata": {},
   "source": [
    "In the perfect world we would perfectly measure the pole mass of the particle in every single event (assuming there is no intrinsic width of the particle). However, CMS is far from perfect so there will be some resolution effect. Lets assume the resolution of our measurement of the invariant mass is 10 GeV and call it \"sigma\""
   ]
  },
  {
   "cell_type": "code",
   "execution_count": null,
   "metadata": {
    "collapsed": true
   },
   "outputs": [],
   "source": [
    "sigma = ROOT.RooRealVar(\"sigma\",\"Invariant mass resolution in GeV\",10,0,20)\n",
    "sigma.Print()"
   ]
  },
  {
   "cell_type": "markdown",
   "metadata": {},
   "source": [
    "we can build a \"probability denisty function\" `f(mass|MH,sigma)` as a simple Gaussian shape..."
   ]
  },
  {
   "cell_type": "code",
   "execution_count": null,
   "metadata": {
    "collapsed": false
   },
   "outputs": [],
   "source": [
    "gauss = ROOT.RooGaussian(\"gauss\",\"Gaussian PDF\",mass,MH,sigma)\n",
    "gauss.Print(\"v\")"
   ]
  },
  {
   "cell_type": "markdown",
   "metadata": {},
   "source": [
    "Notice how the gaussian PDF depends on our `RooRealVar` objects. Its evaluation will depend on their values. Lets plot it for the current values"
   ]
  },
  {
   "cell_type": "code",
   "execution_count": null,
   "metadata": {
    "collapsed": true
   },
   "outputs": [],
   "source": [
    "plot = mass.frame()\n",
    "c0 = ROOT.TCanvas()\n",
    "gauss.plotOn(plot)\n",
    "plot.Draw()\n",
    "c0.Draw()"
   ]
  },
  {
   "cell_type": "markdown",
   "metadata": {},
   "source": [
    "If we change the value of MH, the PDF gets updated too!"
   ]
  },
  {
   "cell_type": "code",
   "execution_count": null,
   "metadata": {
    "collapsed": false
   },
   "outputs": [],
   "source": [
    "MH.setVal(125)\n",
    "gauss.plotOn(plot,ROOT.RooFit.LineColor(ROOT.kRed))\n",
    "\n",
    "MH.setVal(135)\n",
    "gauss.plotOn(plot,ROOT.RooFit.LineColor(ROOT.kGreen))\n",
    "\n",
    "plot.Draw()\n",
    "c0.Update()\n",
    "c0.Draw()"
   ]
  },
  {
   "cell_type": "markdown",
   "metadata": {},
   "source": [
    "We can generate MC data from a PDF in RooFit using a single line! Note that we have to tell RooFit which variables to generate in. In this case, each of our events will be a single value of \"mass\""
   ]
  },
  {
   "cell_type": "code",
   "execution_count": null,
   "metadata": {
    "collapsed": false
   },
   "outputs": [],
   "source": [
    "data = gauss.generate(ROOT.RooArgSet(mass),ROOT.RooFit.NumEvents(500))\n",
    "plot2 = mass.frame()\n",
    "data.plotOn(plot2)\n",
    "gauss.plotOn(plot2)\n",
    "gauss.paramOn(plot2)\n",
    "c1 = ROOT.TCanvas()\n",
    "plot2.Draw()\n",
    "c1.Draw()"
   ]
  },
  {
   "cell_type": "code",
   "execution_count": null,
   "metadata": {
    "collapsed": true
   },
   "outputs": [],
   "source": []
  }
 ],
 "metadata": {
  "kernelspec": {
   "display_name": "Python 2",
   "language": "python",
   "name": "python2"
  }
 },
 "nbformat": 4,
 "nbformat_minor": 1
}
