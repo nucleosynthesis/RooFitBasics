{
 "cells": [
  {
   "cell_type": "markdown",
   "metadata": {},
   "source": [
    "![alt text](files/roofitbasics.png \"Title\")"
   ]
  },
  {
   "cell_type": "markdown",
   "metadata": {},
   "source": [
    "<b>RooFit</b> is a OO analysis environment built on ROOT. It is essentially a collection of classes designed to augment root for data modeling whose aim is summarised below (shamelessly stolen from Wouter Verkerke)..."
   ]
  },
  {
   "cell_type": "markdown",
   "metadata": {},
   "source": [
    "![alt text](files/roofit.png)\n"
   ]
  },
  {
   "cell_type": "markdown",
   "metadata": {},
   "source": [
    "We will cover a few of the basics in the session today but note there are many more tutorials available [here](https://root.cern.ch/root/html600/tutorials/roofit/index.html)"
   ]
  },
  {
   "cell_type": "code",
   "execution_count": null,
   "metadata": {
    "collapsed": false
   },
   "outputs": [],
   "source": [
    "#Setup python in the usual way \n",
    "import ROOT\n",
    "import os\n",
    "%jsroot on"
   ]
  },
  {
   "cell_type": "markdown",
   "metadata": {},
   "source": [
    "## RooFit objects\n",
    "\n",
    "In Roofit, any variable, data point, function, PDF ... is represented by a c++ object\n",
    "\n",
    "The most basic of these is the `RooRealVar`. Let's create one which will represent the mass of some hypothetical particle, we name it and give it an initial starting value and range."
   ]
  },
  {
   "cell_type": "code",
   "execution_count": null,
   "metadata": {
    "collapsed": false
   },
   "outputs": [],
   "source": [
    "MH = ROOT.RooRealVar(\"MH\",\"mass of the Hypothetical Boson (H-boson) in GeV\",125,100,150)\n",
    "MH.Print()"
   ]
  },
  {
   "cell_type": "markdown",
   "metadata": {},
   "source": [
    "ok, great. Now we can access this object and modify it. "
   ]
  },
  {
   "cell_type": "code",
   "execution_count": null,
   "metadata": {
    "collapsed": false
   },
   "outputs": [],
   "source": [
    "MH.setVal(130)\n",
    "MH.getVal()"
   ]
  },
  {
   "cell_type": "markdown",
   "metadata": {},
   "source": [
    "In CMS we don't observe this particle mass but usually define some observable which is *sensitive* to this mass. Lets assume we reconstruct the decay products of the H-boson and measure the invariant mass of those particles. We need to make another variable which represents that invariant mass"
   ]
  },
  {
   "cell_type": "code",
   "execution_count": null,
   "metadata": {
    "collapsed": false
   },
   "outputs": [],
   "source": [
    "mass = ROOT.RooRealVar(\"mass\",\"Invariant mass of our decay products in GeV\",100,80,200)\n",
    "mass.Print()"
   ]
  },
  {
   "cell_type": "markdown",
   "metadata": {},
   "source": [
    "In the perfect world we would perfectly measure the pole mass of the particle in every single event (assuming there is no intrinsic width of the particle). However, CMS is far from perfect so there will be some resolution effect. Lets assume the resolution of our measurement of the invariant mass is 10 GeV and call it \"sigma\""
   ]
  },
  {
   "cell_type": "code",
   "execution_count": null,
   "metadata": {
    "collapsed": false
   },
   "outputs": [],
   "source": [
    "sigma = ROOT.RooRealVar(\"sigma\",\"Invariant mass resolution in GeV\",10,0,20)\n",
    "sigma.Print()"
   ]
  },
  {
   "cell_type": "markdown",
   "metadata": {},
   "source": [
    "More exotic variables can be constructed out of these `RooRealVar`s using `RooFormulaVars`. For example, suppose we wanted to make a function out of the variables which represented the relative resolution as a function of the hypothetical mass MH. "
   ]
  },
  {
   "cell_type": "code",
   "execution_count": null,
   "metadata": {
    "collapsed": false
   },
   "outputs": [],
   "source": [
    "function = ROOT.RooFormulaVar(\"rel_resolution\",\"@0/@1\",ROOT.RooArgList(sigma,mass))\n",
    "function.Print(\"v\")"
   ]
  },
  {
   "cell_type": "markdown",
   "metadata": {},
   "source": [
    "Notice how there is a list of the variables we passed (the servers or \"actual vars\"). We can now plot the function ... "
   ]
  },
  {
   "cell_type": "code",
   "execution_count": null,
   "metadata": {
    "collapsed": false
   },
   "outputs": [],
   "source": [
    "plot = mass.frame()\n",
    "function.plotOn(plot)\n",
    "\n",
    "c = ROOT.TCanvas()\n",
    "plot.Draw()\n",
    "c.Draw()"
   ]
  },
  {
   "cell_type": "markdown",
   "metadata": {},
   "source": [
    "The main objects we are interested in using from RooFit are <b>\"probability denisty functions\"</b> or (PDFs). We can construct the PDF `f(mass|MH,sigma)` as a simple Gaussian shape for example or a `RooGaussian` in RooFit language (think McDonald's logic, everything is a `RooSomethingOrOther`)"
   ]
  },
  {
   "cell_type": "code",
   "execution_count": null,
   "metadata": {
    "collapsed": false
   },
   "outputs": [],
   "source": [
    "gauss = ROOT.RooGaussian(\"gauss\",\"Gaussian PDF\",mass,MH,sigma)\n",
    "gauss.Print(\"V\")"
   ]
  },
  {
   "cell_type": "markdown",
   "metadata": {},
   "source": [
    "Notice how the gaussian PDF, like the `RooFormulaVar` depends on our `RooRealVar` objects, these are its servers.  Its evaluation will depend on their values. \n",
    "\n",
    "The main difference between PDFs and Functions in RooFit is that PDFs are automatically normalised to unitiy, hence they represent a probability density, you don't need to normalise yourself. Lets plot it for the current values"
   ]
  },
  {
   "cell_type": "code",
   "execution_count": null,
   "metadata": {
    "collapsed": false
   },
   "outputs": [],
   "source": [
    "plot = mass.frame()\n",
    "c0 = ROOT.TCanvas()\n",
    "gauss.plotOn(plot)\n",
    "plot.Draw()\n",
    "c0.Draw()"
   ]
  },
  {
   "cell_type": "markdown",
   "metadata": {},
   "source": [
    "If we change the value of MH, the PDF gets updated too!"
   ]
  },
  {
   "cell_type": "code",
   "execution_count": null,
   "metadata": {
    "collapsed": false
   },
   "outputs": [],
   "source": [
    "MH.setVal(125)\n",
    "gauss.plotOn(plot,ROOT.RooFit.LineColor(ROOT.kRed))\n",
    "\n",
    "MH.setVal(135)\n",
    "gauss.plotOn(plot,ROOT.RooFit.LineColor(ROOT.kGreen))\n",
    "\n",
    "plot.Draw()\n",
    "c0.Update()\n",
    "c0.Draw()"
   ]
  },
  {
   "cell_type": "markdown",
   "metadata": {},
   "source": [
    "We can generate MC data from a PDF in RooFit using a single line! Note that we have to tell RooFit which variables to generate in. In this case, each of our events will be a single value of \"mass\""
   ]
  },
  {
   "cell_type": "code",
   "execution_count": null,
   "metadata": {
    "collapsed": false
   },
   "outputs": [],
   "source": [
    "data = gauss.generate(ROOT.RooArgSet(mass),ROOT.RooFit.NumEvents(500))\n",
    "data.Print()"
   ]
  },
  {
   "cell_type": "code",
   "execution_count": null,
   "metadata": {
    "collapsed": false
   },
   "outputs": [],
   "source": [
    "plot2 = mass.frame()\n",
    "data.plotOn(plot2)\n",
    "gauss.plotOn(plot2)\n",
    "gauss.paramOn(plot2)\n",
    "c1 = ROOT.TCanvas()\n",
    "plot2.Draw()\n",
    "c1.Draw()"
   ]
  },
  {
   "cell_type": "markdown",
   "metadata": {},
   "source": [
    "Of course at CMS, we're not in the business of generating MC events, but collecting <b>real data!</b>. Lets see how we can use our real data in RooFit."
   ]
  },
  {
   "cell_type": "markdown",
   "metadata": {},
   "source": [
    "## RooFit datasets\n",
    "\n",
    "A dataset is essentially just a collection of points in N-dimensional (N-observables) space. There are two basic implementations in RooFit, \n",
    "\n",
    "1) an \"unbinned\" dataset - `RooDataSet`\n",
    "\n",
    "2) a \"binned\" dataset - `RooDataHist`\n",
    "\n",
    "both of these use the same basic structure as below"
   ]
  },
  {
   "cell_type": "markdown",
   "metadata": {},
   "source": [
    "![alt text](files/datastructure.png)"
   ]
  },
  {
   "cell_type": "markdown",
   "metadata": {},
   "source": [
    "Lets create an empty dataset where the only observable, the mass. Points can be added to the dataset one by one ..."
   ]
  },
  {
   "cell_type": "code",
   "execution_count": null,
   "metadata": {
    "collapsed": false
   },
   "outputs": [],
   "source": [
    "mydata = ROOT.RooDataSet(\"dummy\",\"My dummy dataset\",ROOT.RooArgSet(mass))\n",
    "\n",
    "mass.setVal(123.4)\n",
    "mydata.add(ROOT.RooArgSet(mass))\n",
    "mass.setVal(145.2)\n",
    "mydata.add(ROOT.RooArgSet(mass))\n",
    "mass.setVal(170.8)\n",
    "mydata.add(ROOT.RooArgSet(mass))\n",
    "\n",
    "\n",
    "mydata.Print()\n",
    "print \"YAWN!\""
   ]
  },
  {
   "cell_type": "markdown",
   "metadata": {},
   "source": [
    "There are also other ways to manipulate datasets in this way as shown in the diagram below \n",
    "\n",
    "![alt text](files/datasets_manip.png)\n",
    "\n",
    "\n",
    "Luckily there are also Constructors for a `RooDataSet` from a `TTree` and for a `RooDataHist` from a `TH1` so its simple to convert from your usual ROOT objects.\n",
    "\n",
    "Let's take an example dataset put together already."
   ]
  },
  {
   "cell_type": "code",
   "execution_count": null,
   "metadata": {
    "collapsed": false
   },
   "outputs": [],
   "source": [
    "fi = ROOT.TFile.Open(\"tutorial.root\")\n",
    "fi.ls()"
   ]
  },
  {
   "cell_type": "markdown",
   "metadata": {},
   "source": [
    "Inside the file, there is something called a `RooWorkspace`. This is just the RooFit way of keeping a persistent link between the objects for a model. It is a very useful way to share data and PDFs/functions etc among CMS collaborators.\n",
    "\n",
    "Let's take a look at it. It contains a `RooDataSet` and one variable. This time we called our variable (or observable) `CMS_hgg_mass`, let's assume now that this is the invariant mass of photon pairs where we assume our H-boson decays to photons.  "
   ]
  },
  {
   "cell_type": "code",
   "execution_count": null,
   "metadata": {
    "collapsed": false
   },
   "outputs": [],
   "source": [
    "wspace = fi.Get(\"workspace\")\n",
    "wspace.Print(\"v\")"
   ]
  },
  {
   "cell_type": "markdown",
   "metadata": {},
   "source": [
    "Let's have a look at the data. The `RooWorkspace` has several accessor functions, we will use the `RooWorkspace::data` one, note there is als `RooWorkspace::var`, `RooWorkspace::function` and `RooWorkspace::pdf` with (hopefully) obvious purposes."
   ]
  },
  {
   "cell_type": "code",
   "execution_count": null,
   "metadata": {
    "collapsed": false
   },
   "outputs": [],
   "source": [
    "data = wspace.data(\"dataset\")\n",
    "mass = wspace.var(\"CMS_hgg_mass\")\n",
    "plot = mass.frame()\n",
    "\n",
    "data.plotOn(plot,ROOT.RooFit.Binning(160))\n",
    "\n",
    "c2 = ROOT.TCanvas()\n",
    "plot.Draw()\n",
    "c2.Draw()"
   ]
  },
  {
   "cell_type": "markdown",
   "metadata": {},
   "source": [
    "## Fitting to data \n",
    "\n",
    "Let's try to fit this data with a pdf. Since it looks like a falling distribution, lets try an exponential. \n",
    "\n",
    "RooFit can fit PDFs to the data using an unbinned maximum likelihood approach. It even has a very simple interface, `RooAbsPdf::fitTo`. RooFit will figure out the range to fit to and also that it should fit the parameter <b>alpha</b> since that variable isn't in our dataset. "
   ]
  },
  {
   "cell_type": "code",
   "execution_count": null,
   "metadata": {
    "collapsed": false
   },
   "outputs": [],
   "source": [
    "alpha = ROOT.RooRealVar(\"alpha\",\"slope parameter for exponential\",-0.5,-2,0.01)\n",
    "exp = ROOT.RooExponential(\"exp\",\"exponential function\",mass,alpha)\n",
    "exp.fitTo(data)\n",
    "\n",
    "exp.plotOn(plot)\n",
    "exp.paramOn(plot)\n",
    "plot.Draw()\n",
    "c2.Update()\n",
    "c2.Draw()"
   ]
  },
  {
   "cell_type": "markdown",
   "metadata": {},
   "source": [
    "RooFit has found the best fit value of alpha for this dataset. It also estimates an uncertainty on alpha using the Hessian matrix from the fit.\n",
    "\n",
    "<b><span style=\"color:red\">Q: Can you figure out how to pass options to the `fitTo` method to change the range for fitting?.</span></b> \n",
    "\n",
    "\n",
    "<b><span style=\"color:red\">Q: What other functions can you think of which would also fit this data? Try a different function.</span></b> \n",
    "\n",
    "<b>Hint:</b> You can fund a bunch of available RooFit functions [here](https://root.cern.ch/root/html/ROOFIT_ROOFIT_Index.html), there is also support for a generic pdf in the form of a `RooGenericPdf`, check [this link](https://root.cern.ch/doc/v608/classRooGenericPdf.html)"
   ]
  },
  {
   "cell_type": "markdown",
   "metadata": {},
   "source": [
    "It looks like there could be a small region near 125 GeV for which our fit doesn't quite go through the points. Maybe our hypothetical H-boson isn't so hypothetical after all!\n",
    "\n",
    "Let's see what happens if we include some resonant signal into the fit. We can take our Gaussian function again and use that as a signal model. A reasonable value for the resolution of a resonant signal with a mass around 125 GeV decaying to a pair of photons is around a GeV."
   ]
  },
  {
   "cell_type": "code",
   "execution_count": null,
   "metadata": {
    "collapsed": false
   },
   "outputs": [],
   "source": [
    "sigma.setVal(1.)\n",
    "sigma.setConstant()\n",
    "\n",
    "MH.setVal(125)\n",
    "MH.setConstant()\n",
    "\n",
    "signal = ROOT.RooGaussian(\"signal\",\"Gaussian PDF\",mass,MH,sigma)"
   ]
  },
  {
   "cell_type": "markdown",
   "metadata": {},
   "source": [
    "We need to add this to our exponential model and fit a \"Sigmal+Background model\". In RooFit there are two ways to add PDFs, recursively where the fraction of yields for the signal and background is a parameter or absolutely where each PDF has its own normalisation. We're going  to use the second one."
   ]
  },
  {
   "cell_type": "code",
   "execution_count": null,
   "metadata": {
    "collapsed": false
   },
   "outputs": [],
   "source": [
    "norm_s = ROOT.RooRealVar(\"norm_s\",\"Number of signal events\",0,500)\n",
    "norm_b = ROOT.RooRealVar(\"norm_b\",\"Number of background events\",0,1000)\n",
    "\n",
    "model = ROOT.RooAddPdf(\"model\",\"Sigma + Background PDF\",ROOT.RooArgList(signal,exp),ROOT.RooArgList(norm_s,norm_b))\n",
    "model.Print(\"v\")"
   ]
  },
  {
   "cell_type": "markdown",
   "metadata": {},
   "source": [
    "We can import this new model into our `RooWorkspace` and show off our new discovery to our CMS friends (if we weren't about 4.5 years too late!)"
   ]
  },
  {
   "cell_type": "code",
   "execution_count": null,
   "metadata": {
    "collapsed": false
   },
   "outputs": [],
   "source": [
    "getattr(wspace,\"import\")(model)  # this is needed since \"import\" is a keyword in python\n",
    "wspace.Print(\"v\")"
   ]
  },
  {
   "cell_type": "markdown",
   "metadata": {},
   "source": [
    "Ok now lets fit the model. Note this time we add the option \"`Extended()`\" which tells RooFit that we care about the overall number of events too. It will add an additional Poisson term in the likelihood to account for this.  "
   ]
  },
  {
   "cell_type": "code",
   "execution_count": null,
   "metadata": {
    "collapsed": false
   },
   "outputs": [],
   "source": [
    "model.fitTo(data,ROOT.RooFit.Extended())"
   ]
  },
  {
   "cell_type": "code",
   "execution_count": null,
   "metadata": {
    "collapsed": false
   },
   "outputs": [],
   "source": [
    "plot = mass.frame()\n",
    "data.plotOn(plot)\n",
    "\n",
    "model.plotOn(plot,ROOT.RooFit.Components(\"exp\"),ROOT.RooFit.LineColor(ROOT.kRed))\n",
    "model.plotOn(plot)\n",
    "\n",
    "model.paramOn(plot)\n",
    "\n",
    "c4 = ROOT.TCanvas()\n",
    "plot.Draw()\n",
    "c4.Draw()"
   ]
  },
  {
   "cell_type": "markdown",
   "metadata": {
    "collapsed": true
   },
   "source": [
    "What about if we also fit for the mass (MH)? we can easily do this by removing the constant setting on MH..."
   ]
  },
  {
   "cell_type": "code",
   "execution_count": null,
   "metadata": {
    "collapsed": false
   },
   "outputs": [],
   "source": [
    "MH.setConstant(False)\n",
    "model.fitTo(data,ROOT.RooFit.Extended())"
   ]
  },
  {
   "cell_type": "markdown",
   "metadata": {},
   "source": [
    "Notice now the result for the fitted MH is not 125 and gets added to the fitted parameters since now it is floating.\n",
    "\n",
    "<span style=\"color:red\"><b>Q: Compare the uncertainties on r with and without the freely floating MH. Should they be different?</b>\n",
    "\n",
    "We can get more information about the fit using the option \"`Save()`\". "
   ]
  },
  {
   "cell_type": "code",
   "execution_count": null,
   "metadata": {
    "collapsed": false
   },
   "outputs": [],
   "source": [
    "fit_res = model.fitTo(data,ROOT.RooFit.Extended(),ROOT.RooFit.Save())\n",
    "fit_res.Print(\"v\")"
   ]
  },
  {
   "cell_type": "markdown",
   "metadata": {},
   "source": [
    "For example, we can get the Correlation Matrix from the fit result... Note that the order of the parameters are the same as listed in the \"Floating Parameter\" list above"
   ]
  },
  {
   "cell_type": "code",
   "execution_count": null,
   "metadata": {
    "collapsed": false
   },
   "outputs": [],
   "source": [
    "cormat = fit_res.correlationMatrix()\n",
    "cormat.Print()"
   ]
  },
  {
   "cell_type": "markdown",
   "metadata": {},
   "source": [
    "And even some fancy ways to visualise these results ... "
   ]
  },
  {
   "cell_type": "code",
   "execution_count": null,
   "metadata": {
    "collapsed": false
   },
   "outputs": [],
   "source": [
    "c = ROOT.TCanvas(\"c\",\"c\",1000,460)\n",
    "c.Divide(2)\n",
    "\n",
    "c.cd(1)\n",
    "plot_err_mat = ROOT.RooPlot(norm_b,norm_s,900,1100,0,80)\n",
    "fit_res.plotOn(plot_err_mat,norm_b,norm_s,\"MEVH12\")\n",
    "plot_err_mat.Draw()\n",
    "\n",
    "c.cd(2)\n",
    "model.plotOn(plot,ROOT.RooFit.VisualizeError(fit_res,2),ROOT.RooFit.FillColor(ROOT.kOrange))\n",
    "model.plotOn(plot)\n",
    "plot.Draw()\n",
    "\n",
    "c.Draw()"
   ]
  },
  {
   "cell_type": "markdown",
   "metadata": {},
   "source": [
    "<span style=\"color:red\"><b>Q: We could also determine the uncertainties from toys. Without going full Feldman-Cousins, throw toys and determine an uncertainty on MH and norm_s and their correlation from toys.</b>\n",
    "\n",
    "Hint: You could use the [RooMCStudy](https://root.cern.ch/root/html600/tutorials/roofit/rf801_mcstudy.C.html) class for this"
   ]
  },
  {
   "cell_type": "code",
   "execution_count": null,
   "metadata": {
    "collapsed": false
   },
   "outputs": [],
   "source": [
    "# Run the toy studies"
   ]
  }
 ],
 "metadata": {
  "kernelspec": {
   "display_name": "Python 2",
   "language": "python",
   "name": "python2"
  },
  "language_info": {
   "codemirror_mode": {
    "name": "ipython",
    "version": 2
   },
   "file_extension": ".py",
   "mimetype": "text/x-python",
   "name": "python",
   "nbconvert_exporter": "python",
   "pygments_lexer": "ipython2",
   "version": "2.7.10"
  }
 },
 "nbformat": 4,
 "nbformat_minor": 1
}
